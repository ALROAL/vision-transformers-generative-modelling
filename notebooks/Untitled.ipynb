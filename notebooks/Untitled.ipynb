{
 "cells": [
  {
   "cell_type": "code",
   "execution_count": 1,
   "id": "d2aba7fc-980d-4af0-abad-75fbce2ea368",
   "metadata": {},
   "outputs": [],
   "source": [
    "import sys"
   ]
  },
  {
   "cell_type": "code",
   "execution_count": 2,
   "id": "e113b98c-a1ba-48b5-8a14-ac29abbc5ea8",
   "metadata": {},
   "outputs": [
    {
     "data": {
      "text/plain": [
       "['C:\\\\Users\\\\alroa\\\\Desktop\\\\DTU\\\\Second Semester\\\\Machine Learning\\\\Vision-transformers-for-generative-modeling\\\\notebooks',\n",
       " 'C:\\\\Users\\\\alroa\\\\anaconda3\\\\envs\\\\venv\\\\python38.zip',\n",
       " 'C:\\\\Users\\\\alroa\\\\anaconda3\\\\envs\\\\venv\\\\DLLs',\n",
       " 'C:\\\\Users\\\\alroa\\\\anaconda3\\\\envs\\\\venv\\\\lib',\n",
       " 'C:\\\\Users\\\\alroa\\\\anaconda3\\\\envs\\\\venv',\n",
       " '',\n",
       " 'C:\\\\Users\\\\alroa\\\\anaconda3\\\\envs\\\\venv\\\\lib\\\\site-packages',\n",
       " 'c:\\\\users\\\\alroa\\\\desktop\\\\projects\\\\lol_replays',\n",
       " 'C:\\\\Users\\\\alroa\\\\anaconda3\\\\envs\\\\venv\\\\lib\\\\site-packages\\\\locket-0.2.1-py3.8.egg',\n",
       " 'C:\\\\Users\\\\alroa\\\\anaconda3\\\\envs\\\\venv\\\\lib\\\\site-packages\\\\win32',\n",
       " 'C:\\\\Users\\\\alroa\\\\anaconda3\\\\envs\\\\venv\\\\lib\\\\site-packages\\\\win32\\\\lib',\n",
       " 'C:\\\\Users\\\\alroa\\\\anaconda3\\\\envs\\\\venv\\\\lib\\\\site-packages\\\\Pythonwin',\n",
       " 'C:\\\\Users\\\\alroa\\\\anaconda3\\\\envs\\\\venv\\\\lib\\\\site-packages\\\\IPython\\\\extensions',\n",
       " 'C:\\\\Users\\\\alroa\\\\.ipython']"
      ]
     },
     "execution_count": 2,
     "metadata": {},
     "output_type": "execute_result"
    }
   ],
   "source": [
    "sys.path"
   ]
  },
  {
   "cell_type": "code",
   "execution_count": 3,
   "id": "e8cde6f8-36f9-44c5-8e9a-5aaa40bd05a0",
   "metadata": {},
   "outputs": [],
   "source": [
    "sys.path.insert(0,'C:\\\\Users\\\\alroa\\\\Desktop\\\\DTU\\\\Second Semester\\\\Machine Learning\\\\Vision-transformers-for-generative-modeling')"
   ]
  },
  {
   "cell_type": "code",
   "execution_count": 4,
   "id": "87fb7da1-4641-4bdd-93ff-f4e025e48063",
   "metadata": {},
   "outputs": [],
   "source": [
    "from main import main"
   ]
  },
  {
   "cell_type": "code",
   "execution_count": 5,
   "id": "e4fc70bc-2db5-4e0b-9491-69f7e5c6023f",
   "metadata": {},
   "outputs": [
    {
     "name": "stderr",
     "output_type": "stream",
     "text": [
      "wandb: Currently logged in as: ml_dtu (use `wandb login --relogin` to force relogin)\n",
      "wandb: WARNING If you're specifying your api key in code, ensure this code is not shared publicly.\n",
      "wandb: WARNING Consider setting the WANDB_API_KEY environment variable, or running `wandb login` from the command line.\n",
      "wandb: Appending key for api.wandb.ai to your netrc file: C:\\Users\\alroa/.netrc\n",
      "Global seed set to 42\n",
      "Using 16bit native Automatic Mixed Precision (AMP)\n",
      "GPU available: True, used: True\n",
      "TPU available: False, using: 0 TPU cores\n",
      "IPU available: False, using: 0 IPUs\n",
      "C:\\Users\\alroa\\anaconda3\\envs\\venv\\lib\\site-packages\\pytorch_lightning\\core\\datamodule.py:469: LightningDeprecationWarning: DataModule.setup has already been called, so it will not be called again. In v1.6 this behavior will change to always call DataModule.setup.\n",
      "  rank_zero_deprecation(\n",
      "LOCAL_RANK: 0 - CUDA_VISIBLE_DEVICES: [0]\n"
     ]
    },
    {
     "data": {
      "text/html": [
       "Tracking run with wandb version 0.12.11"
      ],
      "text/plain": [
       "<IPython.core.display.HTML object>"
      ]
     },
     "metadata": {},
     "output_type": "display_data"
    },
    {
     "data": {
      "text/html": [
       "Run data is saved locally in <code>C:\\Users\\alroa\\Desktop\\DTU\\Second Semester\\Machine Learning\\Vision-transformers-for-generative-modeling\\notebooks\\wandb\\run-20220321_231932-19xab7qf</code>"
      ],
      "text/plain": [
       "<IPython.core.display.HTML object>"
      ]
     },
     "metadata": {},
     "output_type": "display_data"
    },
    {
     "data": {
      "text/html": [
       "Syncing run <strong><a href=\"https://wandb.ai/ml_dtu/ViT-VAE/runs/19xab7qf\" target=\"_blank\">test</a></strong> to <a href=\"https://wandb.ai/ml_dtu/ViT-VAE\" target=\"_blank\">Weights & Biases</a> (<a href=\"https://wandb.me/run\" target=\"_blank\">docs</a>)<br/>"
      ],
      "text/plain": [
       "<IPython.core.display.HTML object>"
      ]
     },
     "metadata": {},
     "output_type": "display_data"
    },
    {
     "name": "stderr",
     "output_type": "stream",
     "text": [
      "\n",
      "  | Name                | Type        | Params\n",
      "----------------------------------------------------\n",
      "0 | to_patch_embedding  | Sequential  | 393 K \n",
      "1 | back_to_img         | Sequential  | 47.3 M\n",
      "2 | dropout             | Dropout     | 0     \n",
      "3 | encoder_transformer | Transformer | 1.6 M \n",
      "4 | decoder_transformer | Transformer | 1.6 M \n",
      "----------------------------------------------------\n",
      "51.0 M    Trainable params\n",
      "0         Non-trainable params\n",
      "51.0 M    Total params\n",
      "101.916   Total estimated model params size (MB)\n",
      "C:\\Users\\alroa\\anaconda3\\envs\\venv\\lib\\site-packages\\pytorch_lightning\\callbacks\\model_checkpoint.py:631: UserWarning: Checkpoint directory C:\\Users\\alroa\\Desktop\\DTU\\Second Semester\\Machine Learning\\Vision-transformers-for-generative-modeling\\models\\ViTVAE exists and is not empty.\n",
      "  rank_zero_warn(f\"Checkpoint directory {dirpath} exists and is not empty.\")\n"
     ]
    },
    {
     "data": {
      "application/vnd.jupyter.widget-view+json": {
       "model_id": "",
       "version_major": 2,
       "version_minor": 0
      },
      "text/plain": [
       "Validation sanity check: 0it [00:00, ?it/s]"
      ]
     },
     "metadata": {},
     "output_type": "display_data"
    },
    {
     "name": "stderr",
     "output_type": "stream",
     "text": [
      "C:\\Users\\alroa\\anaconda3\\envs\\venv\\lib\\site-packages\\pytorch_lightning\\trainer\\data_loading.py:132: UserWarning: The dataloader, val_dataloader 0, does not have many workers which may be a bottleneck. Consider increasing the value of the `num_workers` argument` (try 8 which is the number of cpus on this machine) in the `DataLoader` init to improve performance.\n",
      "  rank_zero_warn(\n",
      "C:\\Users\\alroa\\anaconda3\\envs\\venv\\lib\\site-packages\\torch\\nn\\_reduction.py:42: UserWarning: size_average and reduce args will be deprecated, please use reduction='mean' instead.\n",
      "  warnings.warn(warning.format(ret))\n",
      "Global seed set to 42\n",
      "C:\\Users\\alroa\\anaconda3\\envs\\venv\\lib\\site-packages\\pytorch_lightning\\trainer\\data_loading.py:132: UserWarning: The dataloader, train_dataloader, does not have many workers which may be a bottleneck. Consider increasing the value of the `num_workers` argument` (try 8 which is the number of cpus on this machine) in the `DataLoader` init to improve performance.\n",
      "  rank_zero_warn(\n"
     ]
    },
    {
     "data": {
      "application/vnd.jupyter.widget-view+json": {
       "model_id": "c8ff4ec8717e42c9b22cc417c12ced52",
       "version_major": 2,
       "version_minor": 0
      },
      "text/plain": [
       "Training: 0it [00:00, ?it/s]"
      ]
     },
     "metadata": {},
     "output_type": "display_data"
    },
    {
     "name": "stderr",
     "output_type": "stream",
     "text": [
      "C:\\Users\\alroa\\anaconda3\\envs\\venv\\lib\\site-packages\\pytorch_lightning\\trainer\\trainer.py:688: UserWarning: Detected KeyboardInterrupt, attempting graceful shutdown...\n",
      "  rank_zero_warn(\"Detected KeyboardInterrupt, attempting graceful shutdown...\")\n"
     ]
    }
   ],
   "source": [
    "main()"
   ]
  },
  {
   "cell_type": "code",
   "execution_count": 4,
   "id": "4164f4f9-7506-44cd-beeb-c34a65c83ba0",
   "metadata": {},
   "outputs": [],
   "source": [
    "from src.data.make_dataset import CelebADataModule"
   ]
  },
  {
   "cell_type": "code",
   "execution_count": 5,
   "id": "facebdbf-b4e1-4c26-941a-bf842085d05c",
   "metadata": {
    "tags": []
   },
   "outputs": [],
   "source": [
    "celeb = CelebADataModule()\n",
    "celeb.prepare_data()\n",
    "celeb.setup()"
   ]
  },
  {
   "cell_type": "code",
   "execution_count": 27,
   "id": "a156ceff-796a-4ca0-bb65-6a497afa9202",
   "metadata": {},
   "outputs": [
    {
     "data": {
      "text/plain": [
       "'C:\\\\Users\\\\alroa\\\\Desktop\\\\DTU\\\\Second Semester\\\\Machine Learning\\\\Vision-transformers-for-generative-modeling\\\\data'"
      ]
     },
     "execution_count": 27,
     "metadata": {},
     "output_type": "execute_result"
    }
   ],
   "source": [
    "celeb.data_dir"
   ]
  },
  {
   "cell_type": "code",
   "execution_count": 6,
   "id": "66e41dc8-e982-42ce-a2ba-4fb271479368",
   "metadata": {},
   "outputs": [],
   "source": [
    "celeb_train_dl = celeb.train_dataloader()"
   ]
  },
  {
   "cell_type": "code",
   "execution_count": 7,
   "id": "6a612d85-a294-4a35-aae6-bb1f50573ea0",
   "metadata": {},
   "outputs": [],
   "source": [
    "for x, y in celeb_train_dl:\n",
    "    break"
   ]
  },
  {
   "cell_type": "code",
   "execution_count": 8,
   "id": "52a79519-dce5-4119-95b8-44d9a58519e1",
   "metadata": {},
   "outputs": [
    {
     "data": {
      "text/plain": [
       "torch.Size([64, 3, 218, 178])"
      ]
     },
     "execution_count": 8,
     "metadata": {},
     "output_type": "execute_result"
    }
   ],
   "source": [
    "x.shape"
   ]
  },
  {
   "cell_type": "code",
   "execution_count": 9,
   "id": "36c4c63d-34fd-4470-8c9f-df2712fad62f",
   "metadata": {},
   "outputs": [
    {
     "data": {
      "text/plain": [
       "torch.Size([64, 40])"
      ]
     },
     "execution_count": 9,
     "metadata": {},
     "output_type": "execute_result"
    }
   ],
   "source": [
    "y.shape"
   ]
  },
  {
   "cell_type": "code",
   "execution_count": 10,
   "id": "905865f5-b799-4972-a821-0eac0440fff6",
   "metadata": {},
   "outputs": [
    {
     "data": {
      "text/plain": [
       "tensor([[0, 1, 1,  ..., 0, 0, 1],\n",
       "        [0, 0, 0,  ..., 0, 0, 1],\n",
       "        [0, 0, 0,  ..., 0, 0, 1],\n",
       "        ...,\n",
       "        [0, 0, 1,  ..., 1, 0, 1],\n",
       "        [0, 1, 1,  ..., 0, 0, 1],\n",
       "        [1, 0, 1,  ..., 0, 0, 1]])"
      ]
     },
     "execution_count": 10,
     "metadata": {},
     "output_type": "execute_result"
    }
   ],
   "source": [
    "y"
   ]
  },
  {
   "cell_type": "code",
   "execution_count": null,
   "id": "d6e51f80-b6e8-45fe-86f8-df03d61941bb",
   "metadata": {},
   "outputs": [],
   "source": []
  }
 ],
 "metadata": {
  "kernelspec": {
   "display_name": "Python 3 (ipykernel)",
   "language": "python",
   "name": "python3"
  },
  "language_info": {
   "codemirror_mode": {
    "name": "ipython",
    "version": 3
   },
   "file_extension": ".py",
   "mimetype": "text/x-python",
   "name": "python",
   "nbconvert_exporter": "python",
   "pygments_lexer": "ipython3",
   "version": "3.8.11"
  }
 },
 "nbformat": 4,
 "nbformat_minor": 5
}
